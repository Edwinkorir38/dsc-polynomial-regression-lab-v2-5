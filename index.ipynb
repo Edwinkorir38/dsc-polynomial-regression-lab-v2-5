{
 "cells": [
  {
   "cell_type": "markdown",
   "metadata": {},
   "source": [
    "# Polynomial Regression - Lab"
   ]
  },
  {
   "cell_type": "markdown",
   "metadata": {},
   "source": [
    "## Introduction"
   ]
  },
  {
   "cell_type": "markdown",
   "metadata": {},
   "source": [
    "In this lab, you'll practice your knowledge on adding polynomial terms to your regression model! "
   ]
  },
  {
   "cell_type": "markdown",
   "metadata": {},
   "source": [
    "## Objectives"
   ]
  },
  {
   "cell_type": "markdown",
   "metadata": {},
   "source": [
    "You will be able to:\n",
    "\n",
    "* Determine if polynomial regression would be useful for a specific model or set of data\n",
    "* Create polynomial terms out of independent variables in linear regression"
   ]
  },
  {
   "cell_type": "markdown",
   "metadata": {},
   "source": [
    "## Dataset"
   ]
  },
  {
   "cell_type": "markdown",
   "metadata": {},
   "source": [
    "For this lab you'll be using some generated data:"
   ]
  },
  {
   "cell_type": "code",
   "execution_count": 15,
   "metadata": {},
   "outputs": [
    {
     "data": {
      "text/html": [
       "<div>\n",
       "<style scoped>\n",
       "    .dataframe tbody tr th:only-of-type {\n",
       "        vertical-align: middle;\n",
       "    }\n",
       "\n",
       "    .dataframe tbody tr th {\n",
       "        vertical-align: top;\n",
       "    }\n",
       "\n",
       "    .dataframe thead th {\n",
       "        text-align: right;\n",
       "    }\n",
       "</style>\n",
       "<table border=\"1\" class=\"dataframe\">\n",
       "  <thead>\n",
       "    <tr style=\"text-align: right;\">\n",
       "      <th></th>\n",
       "      <th>x</th>\n",
       "      <th>y</th>\n",
       "    </tr>\n",
       "  </thead>\n",
       "  <tbody>\n",
       "    <tr>\n",
       "      <th>0</th>\n",
       "      <td>0.000000</td>\n",
       "      <td>0.942870</td>\n",
       "    </tr>\n",
       "    <tr>\n",
       "      <th>1</th>\n",
       "      <td>0.121212</td>\n",
       "      <td>-2.261629</td>\n",
       "    </tr>\n",
       "    <tr>\n",
       "      <th>2</th>\n",
       "      <td>0.242424</td>\n",
       "      <td>3.100749</td>\n",
       "    </tr>\n",
       "    <tr>\n",
       "      <th>3</th>\n",
       "      <td>0.363636</td>\n",
       "      <td>-0.285446</td>\n",
       "    </tr>\n",
       "    <tr>\n",
       "      <th>4</th>\n",
       "      <td>0.484848</td>\n",
       "      <td>-1.012210</td>\n",
       "    </tr>\n",
       "  </tbody>\n",
       "</table>\n",
       "</div>"
      ],
      "text/plain": [
       "          x         y\n",
       "0  0.000000  0.942870\n",
       "1  0.121212 -2.261629\n",
       "2  0.242424  3.100749\n",
       "3  0.363636 -0.285446\n",
       "4  0.484848 -1.012210"
      ]
     },
     "execution_count": 15,
     "metadata": {},
     "output_type": "execute_result"
    }
   ],
   "source": [
    "# Run this cell without changes\n",
    "import numpy as np\n",
    "import pandas as pd\n",
    "import matplotlib.pyplot as plt\n",
    "%matplotlib inline\n",
    "\n",
    "df = pd.read_csv('sample_data.csv')\n",
    "df.head()"
   ]
  },
  {
   "cell_type": "markdown",
   "metadata": {},
   "source": [
    "Let's check out a scatter plot of `x` vs. `y`: "
   ]
  },
  {
   "cell_type": "code",
   "execution_count": 16,
   "metadata": {},
   "outputs": [],
   "source": [
    "# Run this cell without changes\n",
    "df.plot.scatter(x=\"x\", y=\"y\");"
   ]
  },
  {
   "cell_type": "markdown",
   "metadata": {},
   "source": [
    "You will notice that the data is clearly of non-linear shape. Begin to think about what degree polynomial you believe will fit it best.\n",
    "\n",
    "You will fit several different models with different polynomial degrees, then plot them in the same plot at the end."
   ]
  },
  {
   "cell_type": "code",
   "execution_count": 17,
   "metadata": {},
   "outputs": [],
   "source": [
    "# Your code here - import StatsModels and separate the data into X and y\n",
    "import statsmodels.api as sm\n",
    "X = df[['x']]\n",
    "y = df['y']"
   ]
  },
  {
   "cell_type": "markdown",
   "metadata": {},
   "source": [
    "## Build and Evaluate a Quadratic Model\n",
    "\n",
    "This model should include a constant, `x`, and `x` squared. You can use `pandas` or `PolynomialFeatures` to create the squared term."
   ]
  },
  {
   "cell_type": "code",
   "execution_count": 18,
   "metadata": {},
   "outputs": [
    {
     "name": "stdout",
     "output_type": "stream",
     "text": [
      "                            OLS Regression Results                            \n",
      "==============================================================================\n",
      "Dep. Variable:                      y   R-squared:                       0.005\n",
      "Model:                            OLS   Adj. R-squared:                 -0.016\n",
      "Method:                 Least Squares   F-statistic:                    0.2366\n",
      "Date:                Sun, 20 Apr 2025   Prob (F-statistic):              0.790\n",
      "Time:                        04:50:39   Log-Likelihood:                -299.64\n",
      "No. Observations:                 100   AIC:                             605.3\n",
      "Df Residuals:                      97   BIC:                             613.1\n",
      "Df Model:                           2                                         \n",
      "Covariance Type:            nonrobust                                         \n",
      "==============================================================================\n",
      "                 coef    std err          t      P>|t|      [0.025      0.975]\n",
      "------------------------------------------------------------------------------\n",
      "const          0.1127      1.446      0.078      0.938      -2.757       2.983\n",
      "x             -0.0744      0.557     -0.134      0.894      -1.180       1.031\n",
      "x_squared     -0.0018      0.045     -0.041      0.967      -0.091       0.087\n",
      "==============================================================================\n",
      "Omnibus:                        1.048   Durbin-Watson:                   0.426\n",
      "Prob(Omnibus):                  0.592   Jarque-Bera (JB):                0.803\n",
      "Skew:                          -0.219   Prob(JB):                        0.669\n",
      "Kurtosis:                       3.037   Cond. No.                         203.\n",
      "==============================================================================\n",
      "\n",
      "Notes:\n",
      "[1] Standard Errors assume that the covariance matrix of the errors is correctly specified.\n"
     ]
    }
   ],
   "source": [
    "# Your code here - prepare quadratic data and fit a model\n",
    "# Create quadratic features manually\n",
    "df['x'] = X\n",
    "df['x_squared'] = X**2\n",
    "\n",
    "# Define the feature matrix and target variable\n",
    "X_quad = sm.add_constant(df[['x', 'x_squared']])  # add constant (intercept)\n",
    "model_quad = sm.OLS(y, X_quad).fit()\n",
    "\n",
    "# Print model summary\n",
    "print(model_quad.summary())"
   ]
  },
  {
   "cell_type": "code",
   "execution_count": 19,
   "metadata": {},
   "outputs": [
    {
     "name": "stdout",
     "output_type": "stream",
     "text": [
      "Adjusted R-squared: -0.015664188856822747\n",
      "\n",
      "Coefficient p-values:\n",
      " const        0.938055\n",
      "x            0.893974\n",
      "x_squared    0.967420\n",
      "dtype: float64\n"
     ]
    }
   ],
   "source": [
    "# Your code here - evaluate (adjusted) R-Squared and coefficient p-values\n",
    "# Evaluate Adjusted R-squared and p-values\n",
    "adj_r_squared = model_quad.rsquared_adj\n",
    "p_values = model_quad.pvalues\n",
    "\n",
    "print(\"Adjusted R-squared:\", adj_r_squared)\n",
    "print(\"\\nCoefficient p-values:\\n\", p_values)"
   ]
  },
  {
   "cell_type": "code",
   "execution_count": 20,
   "metadata": {},
   "outputs": [
    {
     "data": {
      "text/plain": [
       "\" \\nThe adjusted R-squared of -0.0157 suggests that the quadratic model does not explain the variability in the data—in fact, it performs worse than a simple horizontal line (mean of y).\\n\\nAdditionally, the p-values for all coefficients (const, x, and x_squared) are very high (all > 0.89), which means none of the terms are statistically significant predictors of the outcome.\\n\\nThe quadratic model fits the data poorly.\\n\\nThere's no evidence that x or x² significantly predict y.\\n\\nWe may need to explore higher-degree polynomial models or consider non-polynomial models to capture the non-linear shape in the data.\\n\\n\""
      ]
     },
     "execution_count": 20,
     "metadata": {},
     "output_type": "execute_result"
    }
   ],
   "source": [
    "# Your written answer here - summarize findings\n",
    "\"\"\" \n",
    "The adjusted R-squared of -0.0157 suggests that the quadratic model does not explain the variability in the data—in fact, it performs worse than a simple horizontal line (mean of y).\n",
    "\n",
    "Additionally, the p-values for all coefficients (const, x, and x_squared) are very high (all > 0.89), which means none of the terms are statistically significant predictors of the outcome.\n",
    "\n",
    "The quadratic model fits the data poorly.\n",
    "\n",
    "There's no evidence that x or x² significantly predict y.\n",
    "\n",
    "We may need to explore higher-degree polynomial models or consider non-polynomial models to capture the non-linear shape in the data.\n",
    "\n",
    "\"\"\""
   ]
  },
  {
   "cell_type": "markdown",
   "metadata": {},
   "source": [
    "<details>\n",
    "    <summary style=\"cursor: pointer\"><b>Answer (click to reveal)</b></summary>\n",
    "    \n",
    "This is not a good model. Because we have multiple terms and are explaining so little of the variance in `y`, we actually have a negative adjusted R-Squared.\n",
    "\n",
    "None of the coefficients are statistically significant at an alpha of 0.05\n",
    "    \n",
    "</details>"
   ]
  },
  {
   "cell_type": "markdown",
   "metadata": {},
   "source": [
    "## Build and Evaluate a 4th Degree Polynomial Model\n",
    "\n",
    "In other words, the model should include $x^0$ (intercept), $x^1$, $x^2$, $x^3$, and $x^4$ terms.\n",
    "\n",
    "At this point we recommend importing and using `PolynomialFeatures` if you haven't already!"
   ]
  },
  {
   "cell_type": "code",
   "execution_count": 21,
   "metadata": {},
   "outputs": [
    {
     "name": "stdout",
     "output_type": "stream",
     "text": [
      "                            OLS Regression Results                            \n",
      "==============================================================================\n",
      "Dep. Variable:                      y   R-squared:                       0.584\n",
      "Model:                            OLS   Adj. R-squared:                  0.567\n",
      "Method:                 Least Squares   F-statistic:                     33.38\n",
      "Date:                Sun, 20 Apr 2025   Prob (F-statistic):           2.24e-17\n",
      "Time:                        04:50:39   Log-Likelihood:                -255.99\n",
      "No. Observations:                 100   AIC:                             522.0\n",
      "Df Residuals:                      95   BIC:                             535.0\n",
      "Df Model:                           4                                         \n",
      "Covariance Type:            nonrobust                                         \n",
      "==============================================================================\n",
      "                 coef    std err          t      P>|t|      [0.025      0.975]\n",
      "------------------------------------------------------------------------------\n",
      "const          5.8590      1.514      3.870      0.000       2.853       8.864\n",
      "x            -12.6406      1.767     -7.155      0.000     -16.148      -9.133\n",
      "x2             5.3802      0.603      8.921      0.000       4.183       6.577\n",
      "x3            -0.7563      0.076     -9.992      0.000      -0.907      -0.606\n",
      "x4             0.0333      0.003     10.632      0.000       0.027       0.039\n",
      "==============================================================================\n",
      "Omnibus:                        1.211   Durbin-Watson:                   1.007\n",
      "Prob(Omnibus):                  0.546   Jarque-Bera (JB):                1.177\n",
      "Skew:                          -0.257   Prob(JB):                        0.555\n",
      "Kurtosis:                       2.861   Cond. No.                     5.08e+04\n",
      "==============================================================================\n",
      "\n",
      "Notes:\n",
      "[1] Standard Errors assume that the covariance matrix of the errors is correctly specified.\n",
      "[2] The condition number is large, 5.08e+04. This might indicate that there are\n",
      "strong multicollinearity or other numerical problems.\n"
     ]
    }
   ],
   "source": [
    "# Your code here - prepare 4th degree polynomial data and fit a model\n",
    "from sklearn.preprocessing import PolynomialFeatures\n",
    "\n",
    "# Generate 4th degree polynomial features\n",
    "poly = PolynomialFeatures(degree=4, include_bias=False)  # exclude bias because we'll add constant manually\n",
    "X_poly_4 = poly.fit_transform(X.values.reshape(-1, 1))\n",
    "\n",
    "# Convert to DataFrame for better readability\n",
    "X_poly_4_df = pd.DataFrame(X_poly_4, columns=['x', 'x2', 'x3', 'x4'])\n",
    "\n",
    "# Add constant for intercept\n",
    "X_poly_4_df = sm.add_constant(X_poly_4_df)\n",
    "\n",
    "# Fit the model\n",
    "model_poly4 = sm.OLS(y, X_poly_4_df).fit()\n",
    "\n",
    "# Print summary\n",
    "print(model_poly4.summary())"
   ]
  },
  {
   "cell_type": "code",
   "execution_count": 22,
   "metadata": {},
   "outputs": [
    {
     "name": "stdout",
     "output_type": "stream",
     "text": [
      "Adjusted R-squared (4th Degree): 0.5667967820112225\n",
      "\n",
      "Coefficient p-values:\n",
      " const    1.995047e-04\n",
      "x        1.738988e-10\n",
      "x2       3.340296e-14\n",
      "x3       1.715785e-16\n",
      "x4       7.408453e-18\n",
      "dtype: float64\n"
     ]
    }
   ],
   "source": [
    "# Your code here - evaluate (adjusted) R-Squared and coefficient p-values\n",
    "# Evaluate Adjusted R-squared and p-values\n",
    "adj_r_squared_4 = model_poly4.rsquared_adj\n",
    "p_values_4 = model_poly4.pvalues\n",
    "\n",
    "print(\"Adjusted R-squared (4th Degree):\", adj_r_squared_4)\n",
    "print(\"\\nCoefficient p-values:\\n\", p_values_4)"
   ]
  },
  {
   "cell_type": "code",
   "execution_count": 23,
   "metadata": {},
   "outputs": [
    {
     "data": {
      "text/plain": [
       "' \\nThe model overally explains about 58.4% of the variance in target which  is an improvement from the first model which explained about 0.5% of the variance\\nThe adjusted R-squared is 0.567, a substantial improvement over the quadratic model’s negative adjusted R-squared. This indicates that the 4th degree polynomial model explains a meaningful portion of the variance in the data.\\n\\nAll coefficient p-values are extremely small (much less than 0.05), meaning that each term from x0 to x4 is statistically significant in predicting the target variable.\\n\\nThe 4th degree polynomial model is a much better fit for the data compared to the quadratic model. It captures the non-linear shape effectively and includes statistically significant terms, making it a strong candidate for modeling the relationship between x and y.\\n'"
      ]
     },
     "execution_count": 23,
     "metadata": {},
     "output_type": "execute_result"
    }
   ],
   "source": [
    "# Your written answer here - summarize findings\n",
    "\"\"\" \n",
    "The model overally explains about 58.4% of the variance in target which  is an improvement from the first model which explained about 0.5% of the variance\n",
    "The adjusted R-squared is 0.567, a substantial improvement over the quadratic model’s negative adjusted R-squared. This indicates that the 4th degree polynomial model explains a meaningful portion of the variance in the data.\n",
    "\n",
    "All coefficient p-values are extremely small (much less than 0.05), meaning that each term from x0 to x4 is statistically significant in predicting the target variable.\n",
    "\n",
    "The 4th degree polynomial model is a much better fit for the data compared to the quadratic model. It captures the non-linear shape effectively and includes statistically significant terms, making it a strong candidate for modeling the relationship between x and y.\n",
    "\"\"\"\n"
   ]
  },
  {
   "cell_type": "markdown",
   "metadata": {},
   "source": [
    "<details>\n",
    "    <summary style=\"cursor: pointer\"><b>Answer (click to reveal)</b></summary>\n",
    "    \n",
    "This is much better. We are explaining 57-58% of the variance in the target and all of our coefficients are statistically significant at an alpha of 0.05.\n",
    "    \n",
    "</details>"
   ]
  },
  {
   "cell_type": "markdown",
   "metadata": {},
   "source": [
    "## Build and Evaluate an 8th Degree Polynomial Model\n",
    "\n",
    "This model should include $x^0$ through $x^8$."
   ]
  },
  {
   "cell_type": "code",
   "execution_count": 24,
   "metadata": {},
   "outputs": [
    {
     "name": "stdout",
     "output_type": "stream",
     "text": [
      "                            OLS Regression Results                            \n",
      "==============================================================================\n",
      "Dep. Variable:                      y   R-squared:                       0.834\n",
      "Model:                            OLS   Adj. R-squared:                  0.819\n",
      "Method:                 Least Squares   F-statistic:                     56.95\n",
      "Date:                Sun, 20 Apr 2025   Prob (F-statistic):           3.93e-32\n",
      "Time:                        04:50:39   Log-Likelihood:                -210.25\n",
      "No. Observations:                 100   AIC:                             438.5\n",
      "Df Residuals:                      91   BIC:                             461.9\n",
      "Df Model:                           8                                         \n",
      "Covariance Type:            nonrobust                                         \n",
      "==============================================================================\n",
      "                 coef    std err          t      P>|t|      [0.025      0.975]\n",
      "------------------------------------------------------------------------------\n",
      "const          0.6335      1.550      0.409      0.684      -2.446       3.713\n",
      "x             -3.1197      6.237     -0.500      0.618     -15.508       9.269\n",
      "x2             7.2069      8.019      0.899      0.371      -8.722      23.135\n",
      "x3            -5.9515      4.602     -1.293      0.199     -15.092       3.189\n",
      "x4             2.0415      1.388      1.471      0.145      -0.716       4.799\n",
      "x5            -0.3359      0.236     -1.425      0.158      -0.804       0.132\n",
      "x6             0.0276      0.023      1.220      0.226      -0.017       0.073\n",
      "x7            -0.0011      0.001     -0.925      0.357      -0.003       0.001\n",
      "x8          1.418e-05   2.39e-05      0.594      0.554   -3.33e-05    6.16e-05\n",
      "==============================================================================\n",
      "Omnibus:                       11.607   Durbin-Watson:                   2.456\n",
      "Prob(Omnibus):                  0.003   Jarque-Bera (JB):               12.576\n",
      "Skew:                          -0.700   Prob(JB):                      0.00186\n",
      "Kurtosis:                       4.030   Cond. No.                     5.83e+09\n",
      "==============================================================================\n",
      "\n",
      "Notes:\n",
      "[1] Standard Errors assume that the covariance matrix of the errors is correctly specified.\n",
      "[2] The condition number is large, 5.83e+09. This might indicate that there are\n",
      "strong multicollinearity or other numerical problems.\n"
     ]
    }
   ],
   "source": [
    "# Your code here - prepare 8th degree polynomial data and fit a model\n",
    "#Generate 8th degree PolynomialFeatures\n",
    "poly_8 = PolynomialFeatures(degree = 8, include_bias= False)\n",
    "X_poly_8 = poly_8.fit_transform(X.values.reshape(-1,1))\n",
    "\n",
    "# convert to a dataframe for better readability\n",
    "X_poly_8_df = pd.DataFrame(X_poly_8, columns=['x','x2','x3','x4','x5','x6','x7','x8'])\n",
    "\n",
    "# Add constant for the y-intercept\n",
    "X_poly_8_df = sm.add_constant(X_poly_8_df)\n",
    "\n",
    "# Build the model and fit \n",
    "model_poly8 = sm.OLS(y,X_poly_8_df).fit()\n",
    "\n",
    "# print the summarry\n",
    "print(model_poly8.summary())\n",
    "\n",
    "\n",
    "\n"
   ]
  },
  {
   "cell_type": "code",
   "execution_count": 25,
   "metadata": {},
   "outputs": [
    {
     "name": "stdout",
     "output_type": "stream",
     "text": [
      "Adjusted R-squared(8th Degree): 0.8188676291759994\n",
      "\n",
      "Coefficient p-values:\n",
      " const    0.683776\n",
      "x        0.618134\n",
      "x2       0.371163\n",
      "x3       0.199162\n",
      "x4       0.144776\n",
      "x5       0.157523\n",
      "x6       0.225536\n",
      "x7       0.357352\n",
      "x8       0.554141\n",
      "dtype: float64\n"
     ]
    }
   ],
   "source": [
    "# Your code here - evaluate (adjusted) R-Squared and coefficient p-values\n",
    "adj_R_Squared8 = model_poly8.rsquared_adj\n",
    "p_values8 = model_poly8.pvalues\n",
    "\n",
    "print(\"Adjusted R-squared(8th Degree):\",adj_R_Squared8)\n",
    "print(\"\\nCoefficient p-values:\\n\",p_values8)"
   ]
  },
  {
   "cell_type": "code",
   "execution_count": 26,
   "metadata": {},
   "outputs": [
    {
     "data": {
      "text/plain": [
       "' \\nThe adjusted R-squared is 0.819, which indicates a strong fit. This model explains over 81% of the variance in the target variable — significantly better than the 4th degree model (which had ~56.7%).\\n\\nHowever, none of the polynomial terms are statistically significant (all p-values > 0.14), including the intercept. This is unusual for such a high adjusted R² and suggests that:\\n\\nThe model might be overfitting — capturing noise rather than meaningful signal.\\n\\nThe dataset might not be large enough to confidently estimate so many parameters.\\n\\nMulticollinearity among polynomial terms (especially with higher degrees) could be inflating the standard errors.\\n\\nThe fit is strong, but the lack of statistically significant terms is a red flag.\\n\\nThis model may look good numerically but may not generalize well.\\n\\nThe 4th degree model still offers a solid balance of good fit and statistically significant predictors.\\n'"
      ]
     },
     "execution_count": 26,
     "metadata": {},
     "output_type": "execute_result"
    }
   ],
   "source": [
    "# Your written answer here - summarize findings\n",
    "\"\"\" \n",
    "The adjusted R-squared is 0.819, which indicates a strong fit. This model explains over 81% of the variance in the target variable — significantly better than the 4th degree model (which had ~56.7%).\n",
    "\n",
    "However, none of the polynomial terms are statistically significant (all p-values > 0.14), including the intercept. This is unusual for such a high adjusted R² and suggests that:\n",
    "\n",
    "The model might be overfitting — capturing noise rather than meaningful signal.\n",
    "\n",
    "The dataset might not be large enough to confidently estimate so many parameters.\n",
    "\n",
    "Multicollinearity among polynomial terms (especially with higher degrees) could be inflating the standard errors.\n",
    "\n",
    "The fit is strong, but the lack of statistically significant terms is a red flag.\n",
    "\n",
    "This model may look good numerically but may not generalize well.\n",
    "\n",
    "The 4th degree model still offers a solid balance of good fit and statistically significant predictors.\n",
    "\"\"\"\n"
   ]
  },
  {
   "cell_type": "markdown",
   "metadata": {},
   "source": [
    "<details>\n",
    "    <summary style=\"cursor: pointer\"><b>Answer (click to reveal)</b></summary>\n",
    "    \n",
    "Our R-Squared is higher, but none of the coefficients are statistically significant at an alpha of 0.05 any more. If what we care about is an inferential understanding of the data, this is too high a degree of the polynomial.\n",
    "    \n",
    "</details>"
   ]
  },
  {
   "cell_type": "markdown",
   "metadata": {},
   "source": [
    "## Plot All Models\n",
    "\n",
    "Build a single plot that shows the raw data as a scatter plot, as well as all of the models you have developed as line graphs. Make sure that everything is labeled so you can tell the different models apart!"
   ]
  },
  {
   "cell_type": "code",
   "execution_count": 31,
   "metadata": {},
   "outputs": [
    {
     "data": {
      "image/png": "[encoded data removed]",
      "text/plain": [
       "<Figure size 1000x600 with 1 Axes>"
      ]
     },
     "metadata": {},
     "output_type": "display_data"
    }
   ],
   "source": [
    "# Your code here\n",
    "# Create a smooth range of x values for plotting the curves\n",
    "x_range = np.linspace(X.min(), X.max(), 300).reshape(-1, 1)\n",
    "\n",
    "# Quadratic model prediction\n",
    "quad_features = PolynomialFeatures(degree=2, include_bias=False).fit_transform(x_range)\n",
    "quad_features_df = sm.add_constant(pd.DataFrame(quad_features, columns=['x', 'x2']))\n",
    "y_quad_pred = model_quad.predict(quad_features_df)\n",
    "\n",
    "# 4th degree model prediction\n",
    "poly4_features = PolynomialFeatures(degree=4, include_bias=False).fit_transform(x_range)\n",
    "poly4_features_df = sm.add_constant(pd.DataFrame(poly4_features, columns=['x', 'x2', 'x3', 'x4']))\n",
    "y_poly4_pred = model_poly4.predict(poly4_features_df)\n",
    "\n",
    "# 8th degree model prediction\n",
    "poly8_features = PolynomialFeatures(degree=8, include_bias=False).fit_transform(x_range)\n",
    "poly8_features_df = sm.add_constant(pd.DataFrame(poly8_features, columns=[f'x{i}' if i > 1 else 'x' for i in range(1, 9)]))\n",
    "y_poly8_pred = model_poly8.predict(poly8_features_df)\n",
    "\n",
    "# Plot\n",
    "plt.figure(figsize=(10, 6))\n",
    "plt.scatter(X, y, color='black', alpha=0.6, label='Raw Data')\n",
    "\n",
    "plt.plot(x_range, y_quad_pred, color='blue', label='Quadratic Model (Degree 2)')\n",
    "plt.plot(x_range, y_poly4_pred, color='green', label='4th Degree Polynomial')\n",
    "plt.plot(x_range, y_poly8_pred, color='red', label='8th Degree Polynomial')\n",
    "\n",
    "plt.title('Polynomial Regression Comparison')\n",
    "plt.xlabel('X')\n",
    "plt.ylabel('y')\n",
    "plt.legend()\n",
    "plt.grid(True)\n",
    "plt.tight_layout()\n",
    "plt.show()\n"
   ]
  },
  {
   "cell_type": "markdown",
   "metadata": {},
   "source": [
    "### Interpret Findings\n",
    "\n",
    "Based on the metrics as well as the graphs, which model do you think is the best? Why?"
   ]
  },
  {
   "cell_type": "code",
   "execution_count": 28,
   "metadata": {},
   "outputs": [
    {
     "data": {
      "text/plain": [
       "' \\nBased on both statistical metrics and the visual fit, the 4th degree polynomial model is the most appropriate choice.\\n\\nIn terms of adjusted R-squared, the 4th degree model achieves a value of 0.567, which indicates a solid fit to the data. While the 8th degree model reports a higher adjusted R-squared of 0.819, it comes at the cost of potential overfitting. The quadratic model, with a negative adjusted R-squared, clearly fails to capture the structure in the data.\\n\\nLooking at coefficient significance, the 4th degree model outperforms the 8th degree model. All coefficients in the 4th degree model are statistically significant, meaning each term contributes meaningfully to the model. In contrast, none of the 8th degree model’s terms are statistically significant, despite its higher R². This suggests that it may be fitting random noise rather than true patterns.\\n\\nVisually, the green curve (4th degree) closely follows the overall trend in the scatter plot without overreacting to small fluctuations. The red curve (8th degree) shows excessive wiggles and sharp turns, which is a classic sign of overfitting. The blue curve (quadratic) is almost flat and fails to capture the non-linear nature of the data.\\n\\nIn summary, the 4th degree model provides the best balance between fit, interpretability, and statistical reliability. It captures the complexity of the data without overfitting, making it the most robust model of the three.\\n'"
      ]
     },
     "execution_count": 28,
     "metadata": {},
     "output_type": "execute_result"
    }
   ],
   "source": [
    "# Your written answer here\n",
    "\"\"\" \n",
    "Based on both statistical metrics and the visual fit, the 4th degree polynomial model is the most appropriate choice.\n",
    "\n",
    "In terms of adjusted R-squared, the 4th degree model achieves a value of 0.567, which indicates a solid fit to the data. While the 8th degree model reports a higher adjusted R-squared of 0.819, it comes at the cost of potential overfitting. The quadratic model, with a negative adjusted R-squared, clearly fails to capture the structure in the data.\n",
    "\n",
    "Looking at coefficient significance, the 4th degree model outperforms the 8th degree model. All coefficients in the 4th degree model are statistically significant, meaning each term contributes meaningfully to the model. In contrast, none of the 8th degree model’s terms are statistically significant, despite its higher R². This suggests that it may be fitting random noise rather than true patterns.\n",
    "\n",
    "Visually, the green curve (4th degree) closely follows the overall trend in the scatter plot without overreacting to small fluctuations. The red curve (8th degree) shows excessive wiggles and sharp turns, which is a classic sign of overfitting. The blue curve (quadratic) is almost flat and fails to capture the non-linear nature of the data.\n",
    "\n",
    "In summary, the 4th degree model provides the best balance between fit, interpretability, and statistical reliability. It captures the complexity of the data without overfitting, making it the most robust model of the three.\n",
    "\"\"\""
   ]
  },
  {
   "cell_type": "markdown",
   "metadata": {},
   "source": [
    "<details>\n",
    "    <summary style=\"cursor: pointer\"><b>Answer (click to reveal)</b></summary>\n",
    "    \n",
    "The quadratic model (polynomial degree 2) is definitely not the best based on all of the evidence we have. It has the worst R-Squared, the coefficient p-values are not significant, and you can see from the graph that there is a lot of variance in the data that it is not picking up on.\n",
    "\n",
    "Our visual inspection aligns with the worse R-Squared for the 4th degree polynomial compared to the 8th degree polynomial. The 4th degree polynomial is flatter and doesn't seem to capture the extremes of the data as well.\n",
    "    \n",
    "However if we wanted to interpret the coefficients, then only the 4th degree polynomial has statistically significant results. The interpretation would be challenging because of the number of terms, but we could apply some calculus techniques to describe inflection points.\n",
    "\n",
    "Overall it appears that this dataset is not particularly well suited to an inferential linear regression approach, even with polynomial transformations. So the \"best\" model could be either the 4th or 8th degree polynomial depending on which aspect of the model is more important to you, but either way it will be challenging to translate it into insights for stakeholders.\n",
    "    \n",
    "</details>"
   ]
  },
  {
   "cell_type": "markdown",
   "metadata": {},
   "source": [
    "## Summary"
   ]
  },
  {
   "cell_type": "markdown",
   "metadata": {},
   "source": [
    "Great job! You now know how to include polynomials in your linear models as well as the limitations of applying polynomial regression. "
   ]
  }
 ],
 "metadata": {
  "kernelspec": {
   "display_name": "Python 3",
   "language": "python",
   "name": "python3"
  },
  "language_info": {
   "codemirror_mode": {
    "name": "ipython",
    "version": 3
   },
   "file_extension": ".py",
   "mimetype": "text/x-python",
   "name": "python",
   "nbconvert_exporter": "python",
   "pygments_lexer": "ipython3",
   "version": "3.11.7"
  }
 },
 "nbformat": 4,
 "nbformat_minor": 2
}
